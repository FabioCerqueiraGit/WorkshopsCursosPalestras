{
  "nbformat": 4,
  "nbformat_minor": 0,
  "metadata": {
    "colab": {
      "provenance": [],
      "authorship_tag": "ABX9TyNXvpEcpjmmo827/GSoBmKF",
      "include_colab_link": true
    },
    "kernelspec": {
      "name": "python3",
      "display_name": "Python 3"
    },
    "language_info": {
      "name": "python"
    }
  },
  "cells": [
    {
      "cell_type": "markdown",
      "metadata": {
        "id": "view-in-github",
        "colab_type": "text"
      },
      "source": [
        "<a href=\"https://colab.research.google.com/github/FabioCerqueiraGit/WorkshopsCursosPalestras/blob/main/PythonParaAnaliseDados/01_Tupla.ipynb\" target=\"_parent\"><img src=\"https://colab.research.google.com/assets/colab-badge.svg\" alt=\"Open In Colab\"/></a>"
      ]
    },
    {
      "cell_type": "markdown",
      "source": [
        "## O que é uma Tupla em Python\n",
        "Uma tupla é uma estrutura de dados em Python que é imutável, ou seja, uma vez criada, seus elementos não podem ser alterados. As tuplas são definidas utilizando parênteses () e podem conter elementos de diferentes tipos, como inteiros, strings, listas, ou até mesmo outras tuplas.\n",
        "\n",
        "Exemplo de uma tupla:"
      ],
      "metadata": {
        "id": "7AfTbxxcG3dp"
      }
    },
    {
      "cell_type": "code",
      "execution_count": null,
      "metadata": {
        "id": "NvCx9fxzGu6S"
      },
      "outputs": [],
      "source": [
        "minha_tupla = (1, 'a', 3.14, (2, 4))"
      ]
    },
    {
      "cell_type": "markdown",
      "source": [
        "## Para que serve uma Tupla\n",
        "\n",
        "As tuplas servem para armazenar uma coleção de itens que não precisam ser alterados ao longo da execução do programa. Elas são usadas quando a imutabilidade é necessária ou desejada, por exemplo:\n",
        "\n",
        "* **Armazenamento de Dados Imutáveis:** Quando você deseja garantir que os dados não sejam alterados acidentalmente, uma tupla é uma boa escolha.\n",
        "\n",
        "* **Chaves de Dicionário:** Tuplas podem ser usadas como chaves de dicionário, já que são imutáveis e, portanto, têm um hash constante.\n",
        "\n",
        "* **Dados Relacionados:** Quando você tem um conjunto fixo de valores que estão logicamente relacionados e não precisam ser modificados, uma tupla pode ser apropriada."
      ],
      "metadata": {
        "id": "q4_YNEd8Hk_P"
      }
    },
    {
      "cell_type": "markdown",
      "source": [
        "## Utilização de Tuplas na Análise de Dados\n",
        "Na análise de dados, as tuplas podem ser usadas em várias situações, tais como:\n",
        "\n",
        "* **Armazenamento de Coordenadas:** Tuplas são frequentemente usadas para armazenar coordenadas (x, y), (latitude, longitude), etc.\n",
        "\n",
        "* **Retorno de Múltiplos Valores:** Funções podem retornar múltiplos valores em forma de tupla. Por exemplo, uma função que calcula estatísticas de um conjunto de dados pode retornar uma tupla contendo média, mediana e desvio padrão.\n",
        "\n",
        "* **Manipulação de Dados:** Em alguns casos, os dados lidos de fontes externas (como arquivos CSV, bancos de dados) são armazenados inicialmente em tuplas antes de serem processados ou convertidos para outras estruturas de dados como listas ou DataFrames do pandas."
      ],
      "metadata": {
        "id": "m6lyeZ3DH6sG"
      }
    },
    {
      "cell_type": "markdown",
      "source": [
        "## Exemplo de Uso em Análise de Dados\n",
        "Vamos considerar um exemplo em que usamos uma tupla para armazenar e manipular dados de coordenadas geográficas em um DataFrame do pandas:"
      ],
      "metadata": {
        "id": "2STy_wVfJmEE"
      }
    },
    {
      "cell_type": "code",
      "source": [
        "import pandas as pd\n",
        "\n",
        "# Dados de exemplo com coordenadas geográficas\n",
        "data = {\n",
        "    'Nome': ['Local A', 'Local B', 'Local C'],\n",
        "    'Coordenadas': [(37.7749, -122.4194), (34.0522, -118.2437), (40.7128, -74.0060)]\n",
        "}\n",
        "\n",
        "# Criando um DataFrame\n",
        "df = pd.DataFrame(data)\n",
        "\n",
        "# Acessando e utilizando as coordenadas\n",
        "for index, row in df.iterrows():\n",
        "    coordenadas = row['Coordenadas']\n",
        "    print(f\"{row['Nome']} está localizado em Latitude: {coordenadas[0]}, Longitude: {coordenadas[1]}\")\n"
      ],
      "metadata": {
        "colab": {
          "base_uri": "https://localhost:8080/"
        },
        "id": "kgigrAzIH2iN",
        "outputId": "a17a42ce-17c9-4cf6-fc46-5c84913a17d1"
      },
      "execution_count": 1,
      "outputs": [
        {
          "output_type": "stream",
          "name": "stdout",
          "text": [
            "Local A está localizado em Latitude: 37.7749, Longitude: -122.4194\n",
            "Local B está localizado em Latitude: 34.0522, Longitude: -118.2437\n",
            "Local C está localizado em Latitude: 40.7128, Longitude: -74.006\n"
          ]
        }
      ]
    },
    {
      "cell_type": "markdown",
      "source": [
        "### Diferença entre Tupla, Lista, Dicionário e Conjunto em Python\n",
        "\n",
        "#### Tupla\n",
        "- **Definição**: Estrutura de dados imutável que pode conter elementos de diferentes tipos.\n",
        "- **Sintaxe**: `tupla = (1, 'a', 3.14)`\n",
        "- **Características**:\n",
        "  - **Imutável**: Não pode ser alterada após a criação.\n",
        "  - **Ordenada**: Mantém a ordem dos elementos.\n",
        "  - **Acesso por Índice**: Elementos podem ser acessados por índice.\n",
        "- **Uso Comum**: Armazenamento de dados imutáveis, coordenadas, retorno de múltiplos valores em funções.\n",
        "\n",
        "### Resumo das Diferenças\n",
        "\n",
        "| Estrutura   | Mutabilidade | Ordenação          | Acesso                  | Duplicatas        | Sintaxe                |\n",
        "|-------------|--------------|--------------------|-------------------------|-------------------|------------------------|\n",
        "| **Tupla**   | Imutável     | Ordenada           | Por índice              | Permitido         | `(1, 2, 3)`            |\n",
        "| **Lista**   | Mutável      | Ordenada           | Por índice              | Permitido         | `[1, 2, 3]`            |\n",
        "| **Dicionário**| Mutável     | Não ordenado (antes do 3.7) / Ordenado (3.7+) | Por chave       | Chaves únicas         | `{'chave1': 'valor1'}`|\n",
        "| **Conjunto**| Mutável      | Não ordenado       | Não aplicável (não indexado) | Não permitido  | `{1, 2, 3}`           |\n",
        "\n",
        "Cada uma dessas estruturas de dados tem seu próprio uso específico e é escolhida com base nas necessidades da aplicação em termos de mutabilidade, ordenação, acesso e duplicação de elementos."
      ],
      "metadata": {
        "id": "DC-kq-qrLXKa"
      }
    },
    {
      "cell_type": "markdown",
      "source": [
        "## Curiosidades"
      ],
      "metadata": {
        "id": "HcNjOuiLLkhU"
      }
    },
    {
      "cell_type": "code",
      "source": [
        "# Podemos converter qualquer sequência em Tupla\n",
        "# Exemplo com String\n",
        "tup = tuple('FabioCerqueira')\n",
        "print(tup)\n",
        "# O resultado será ('F', 'a', 'b', 'i', 'o', 'C', 'e', 'r', 'q', 'u', 'e', 'i', 'r', 'a')\n",
        "\n",
        "# Exemplo com Inteiros\n",
        "tup = tuple('54984516133118381311')\n",
        "print(tup)\n",
        "# O resultado será ('5', '4', '9', '8', '4', '5', '1', '6', '1', '3', '3', '1', '1', '8', '3', '8', '1', '3', '1', '1')"
      ],
      "metadata": {
        "colab": {
          "base_uri": "https://localhost:8080/"
        },
        "id": "hYCjFGhWMotE",
        "outputId": "f33b3e02-f275-4531-9e25-50faf2c6cf37"
      },
      "execution_count": 7,
      "outputs": [
        {
          "output_type": "stream",
          "name": "stdout",
          "text": [
            "('F', 'a', 'b', 'i', 'o', 'C', 'e', 'r', 'q', 'u', 'e', 'i', 'r', 'a')\n",
            "('5', '4', '9', '8', '4', '5', '1', '6', '1', '3', '3', '1', '1', '8', '3', '8', '1', '3', '1', '1')\n"
          ]
        }
      ]
    },
    {
      "cell_type": "markdown",
      "source": [
        "## Quais são os métodos de uma Tupla e como usá-los?"
      ],
      "metadata": {
        "id": "bRe-lblAQboV"
      }
    },
    {
      "cell_type": "code",
      "source": [
        "# Primeiro vamos preencher a Tupla com alguns valores aleatórios\n",
        "tup = (14,'JANEIRO','1988', (34.0522, -118.2437),'31984573832',['false', 'true'])\n",
        "print(tup) # Aqui printamos na tela todos os valores\n",
        "\n",
        "# Método Count serve para contar quantas vezes um determinado valor aparece dentro da Tupla\n",
        "print(f'Dentro da Tupla eu encontrei {tup.count(14)} vez(es) o valor 14')\n",
        "\n",
        "# Método Index serve para identificar em que posição determinado valor está dentro da Tupla\n",
        "print(f'Dentro da Tupla o valor 14 está na posição {tup.index(14)}')\n",
        "print(f'enquanto o valor (34.0522, -118.2437) está na posição {tup.index((34.0522, -118.2437))}')"
      ],
      "metadata": {
        "colab": {
          "base_uri": "https://localhost:8080/"
        },
        "id": "seUjRz5JQoxD",
        "outputId": "1f2c14e5-f11d-4c46-b623-9c21e8c22fad"
      },
      "execution_count": 30,
      "outputs": [
        {
          "output_type": "stream",
          "name": "stdout",
          "text": [
            "(14, 'JANEIRO', '1988', (34.0522, -118.2437), '31984573832', ['false', 'true'])\n",
            "Dentro da Tupla eu encontrei 1 vez(es) o valor 14\n",
            "Dentro da Tupla o valor 14 está na posição 0\n",
            "enquanto o valor (34.0522, -118.2437) está na posição 3\n"
          ]
        }
      ]
    },
    {
      "cell_type": "code",
      "source": [
        "# Bastante útil para utilizar em estatísticas no cálculo de Frequência\n",
        "# Exemplo: Quantas vezes cada número se repete dentro da tupla abaixo\n",
        "pesquisa = ('5', '4', '9', '8', '4', '5', '1', '6', '1', '3', '3', '1', '1', '8', '3', '8', '1', '3', '1', '1')\n",
        "\n",
        "# Inicializando uma tupla vazia para armazenar os números já contados\n",
        "numeros_contados = ()\n",
        "\n",
        "# Iterando sobre cada elemento na tupla\n",
        "for numero in pesquisa:\n",
        "    # Se o número não foi contado ainda, contamos suas ocorrências\n",
        "    if numero not in numeros_contados:\n",
        "        quantidade = pesquisa.count(numero)\n",
        "        print(f\"O número {numero} aparece {quantidade} vezes na tupla.\")\n",
        "        # Adicionamos o número à tupla de números contados\n",
        "        numeros_contados += (numero,)\n"
      ],
      "metadata": {
        "colab": {
          "base_uri": "https://localhost:8080/"
        },
        "id": "svf1yk4PWg31",
        "outputId": "b05656f9-6db7-42f4-a6b2-88bf4936f6de"
      },
      "execution_count": 31,
      "outputs": [
        {
          "output_type": "stream",
          "name": "stdout",
          "text": [
            "O número 5 aparece 2 vezes na tupla.\n",
            "O número 4 aparece 2 vezes na tupla.\n",
            "O número 9 aparece 1 vezes na tupla.\n",
            "O número 8 aparece 3 vezes na tupla.\n",
            "O número 1 aparece 7 vezes na tupla.\n",
            "O número 6 aparece 1 vezes na tupla.\n",
            "O número 3 aparece 4 vezes na tupla.\n"
          ]
        }
      ]
    }
  ]
}