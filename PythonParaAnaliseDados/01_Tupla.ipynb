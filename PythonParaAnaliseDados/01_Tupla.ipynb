{
  "nbformat": 4,
  "nbformat_minor": 0,
  "metadata": {
    "colab": {
      "provenance": [],
      "authorship_tag": "ABX9TyOAVkEYQQ46GJCP4sGwPMKi",
      "include_colab_link": true
    },
    "kernelspec": {
      "name": "python3",
      "display_name": "Python 3"
    },
    "language_info": {
      "name": "python"
    }
  },
  "cells": [
    {
      "cell_type": "markdown",
      "metadata": {
        "id": "view-in-github",
        "colab_type": "text"
      },
      "source": [
        "<a href=\"https://colab.research.google.com/github/FabioCerqueiraGit/WorkshopsCursosPalestras/blob/main/PythonParaAnaliseDados/01_Tupla.ipynb\" target=\"_parent\"><img src=\"https://colab.research.google.com/assets/colab-badge.svg\" alt=\"Open In Colab\"/></a>"
      ]
    },
    {
      "cell_type": "markdown",
      "source": [
        "## O que é uma Tupla em Python\n",
        "Uma tupla é uma estrutura de dados em Python que é imutável, ou seja, uma vez criada, seus elementos não podem ser alterados. As tuplas são definidas utilizando parênteses () e podem conter elementos de diferentes tipos, como inteiros, strings, listas, ou até mesmo outras tuplas.\n",
        "\n",
        "Exemplo de uma tupla:"
      ],
      "metadata": {
        "id": "7AfTbxxcG3dp"
      }
    },
    {
      "cell_type": "code",
      "execution_count": null,
      "metadata": {
        "id": "NvCx9fxzGu6S"
      },
      "outputs": [],
      "source": [
        "minha_tupla = (1, 'a', 3.14, (2, 4))"
      ]
    },
    {
      "cell_type": "markdown",
      "source": [
        "## Para que serve uma Tupla\n",
        "\n",
        "As tuplas servem para armazenar uma coleção de itens que não precisam ser alterados ao longo da execução do programa. Elas são usadas quando a imutabilidade é necessária ou desejada, por exemplo:\n",
        "\n",
        "* **Armazenamento de Dados Imutáveis:** Quando você deseja garantir que os dados não sejam alterados acidentalmente, uma tupla é uma boa escolha.\n",
        "\n",
        "* **Chaves de Dicionário:** Tuplas podem ser usadas como chaves de dicionário, já que são imutáveis e, portanto, têm um hash constante.\n",
        "\n",
        "* **Dados Relacionados:** Quando você tem um conjunto fixo de valores que estão logicamente relacionados e não precisam ser modificados, uma tupla pode ser apropriada."
      ],
      "metadata": {
        "id": "q4_YNEd8Hk_P"
      }
    },
    {
      "cell_type": "markdown",
      "source": [
        "## Utilização de Tuplas na Análise de Dados\n",
        "Na análise de dados, as tuplas podem ser usadas em várias situações, tais como:\n",
        "\n",
        "* **Armazenamento de Coordenadas:** Tuplas são frequentemente usadas para armazenar coordenadas (x, y), (latitude, longitude), etc.\n",
        "\n",
        "* **Retorno de Múltiplos Valores:** Funções podem retornar múltiplos valores em forma de tupla. Por exemplo, uma função que calcula estatísticas de um conjunto de dados pode retornar uma tupla contendo média, mediana e desvio padrão.\n",
        "\n",
        "* **Manipulação de Dados:** Em alguns casos, os dados lidos de fontes externas (como arquivos CSV, bancos de dados) são armazenados inicialmente em tuplas antes de serem processados ou convertidos para outras estruturas de dados como listas ou DataFrames do pandas."
      ],
      "metadata": {
        "id": "m6lyeZ3DH6sG"
      }
    },
    {
      "cell_type": "markdown",
      "source": [
        "## Exemplo de Uso em Análise de Dados\n",
        "Vamos considerar um exemplo em que usamos uma tupla para armazenar e manipular dados de coordenadas geográficas em um DataFrame do pandas:"
      ],
      "metadata": {
        "id": "2STy_wVfJmEE"
      }
    },
    {
      "cell_type": "code",
      "source": [
        "import pandas as pd\n",
        "\n",
        "# Dados de exemplo com coordenadas geográficas\n",
        "data = {\n",
        "    'Nome': ['Local A', 'Local B', 'Local C'],\n",
        "    'Coordenadas': [(37.7749, -122.4194), (34.0522, -118.2437), (40.7128, -74.0060)]\n",
        "}\n",
        "\n",
        "# Criando um DataFrame\n",
        "df = pd.DataFrame(data)\n",
        "\n",
        "# Acessando e utilizando as coordenadas\n",
        "for index, row in df.iterrows():\n",
        "    coordenadas = row['Coordenadas']\n",
        "    print(f\"{row['Nome']} está localizado em Latitude: {coordenadas[0]}, Longitude: {coordenadas[1]}\")\n"
      ],
      "metadata": {
        "colab": {
          "base_uri": "https://localhost:8080/"
        },
        "id": "kgigrAzIH2iN",
        "outputId": "a17a42ce-17c9-4cf6-fc46-5c84913a17d1"
      },
      "execution_count": 1,
      "outputs": [
        {
          "output_type": "stream",
          "name": "stdout",
          "text": [
            "Local A está localizado em Latitude: 37.7749, Longitude: -122.4194\n",
            "Local B está localizado em Latitude: 34.0522, Longitude: -118.2437\n",
            "Local C está localizado em Latitude: 40.7128, Longitude: -74.006\n"
          ]
        }
      ]
    }
  ]
}