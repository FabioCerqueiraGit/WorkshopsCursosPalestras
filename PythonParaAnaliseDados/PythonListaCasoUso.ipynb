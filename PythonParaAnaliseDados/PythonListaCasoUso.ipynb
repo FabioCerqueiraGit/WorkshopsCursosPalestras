{
  "nbformat": 4,
  "nbformat_minor": 0,
  "metadata": {
    "colab": {
      "provenance": [],
      "authorship_tag": "ABX9TyPQMeJ5HhjNg/59fThwUeh1",
      "include_colab_link": true
    },
    "kernelspec": {
      "name": "python3",
      "display_name": "Python 3"
    },
    "language_info": {
      "name": "python"
    }
  },
  "cells": [
    {
      "cell_type": "markdown",
      "metadata": {
        "id": "view-in-github",
        "colab_type": "text"
      },
      "source": [
        "<a href=\"https://colab.research.google.com/github/FabioCerqueiraGit/WorkshopsCursosPalestras/blob/main/PythonParaAnaliseDados/PythonListaCasoUso.ipynb\" target=\"_parent\"><img src=\"https://colab.research.google.com/assets/colab-badge.svg\" alt=\"Open In Colab\"/></a>"
      ]
    },
    {
      "cell_type": "markdown",
      "source": [
        "# Exemplos de Uso de Listas em Python\n",
        "\n"
      ],
      "metadata": {
        "id": "PmymD03ZGqAS"
      }
    },
    {
      "cell_type": "markdown",
      "source": [
        "# Caso de Uso 1: Armazenar uma Sequência de Valores\n",
        "\n",
        "Listas podem ser usadas para armazenar uma sequência de valores, como uma lista de números ou nomes."
      ],
      "metadata": {
        "id": "SUcYGWACGw21"
      }
    },
    {
      "cell_type": "code",
      "execution_count": 1,
      "metadata": {
        "colab": {
          "base_uri": "https://localhost:8080/"
        },
        "id": "b454_JSQGmXI",
        "outputId": "165755cb-b84f-4311-8716-8984bff07886"
      },
      "outputs": [
        {
          "output_type": "stream",
          "name": "stdout",
          "text": [
            "Lista de Números: [1, 2, 3, 4, 5]\n",
            "Após Adicionar um Número: [1, 2, 3, 4, 5, 6]\n"
          ]
        }
      ],
      "source": [
        "# Lista de números\n",
        "numeros = [1, 2, 3, 4, 5]\n",
        "\n",
        "print(\"Lista de Números:\", numeros)\n",
        "\n",
        "# Adicionar um número à lista\n",
        "numeros.append(6)\n",
        "print(\"Após Adicionar um Número:\", numeros)\n"
      ]
    },
    {
      "cell_type": "markdown",
      "source": [
        "# Caso de Uso 2: Manipular Dados em um Dataset\n",
        "\n",
        "Listas podem ser usadas para armazenar e manipular dados em datasets. Por exemplo, listas aninhadas podem representar linhas de dados."
      ],
      "metadata": {
        "id": "8w5xgj_AG2sc"
      }
    },
    {
      "cell_type": "code",
      "source": [
        "# Lista de listas representando um dataset de estudantes\n",
        "estudantes = [\n",
        "    [\"Alice\", 23, \"Matemática\"],\n",
        "    [\"Bob\", 22, \"Física\"],\n",
        "    [\"Charlie\", 24, \"Biologia\"]\n",
        "]\n",
        "\n",
        "# Acessar dados\n",
        "for estudante in estudantes:\n",
        "    print(f\"Nome: {estudante[0]}, Idade: {estudante[1]}, Curso: {estudante[2]}\")\n",
        "\n",
        "# Modificar dados\n",
        "estudantes[1][1] = 23  # Atualizar idade de Bob\n",
        "print(\"Dados Atualizados:\", estudantes)\n"
      ],
      "metadata": {
        "colab": {
          "base_uri": "https://localhost:8080/"
        },
        "id": "NK_8HskSG4U7",
        "outputId": "980f7d0b-19a1-4020-b230-e6935a5519a8"
      },
      "execution_count": 2,
      "outputs": [
        {
          "output_type": "stream",
          "name": "stdout",
          "text": [
            "Nome: Alice, Idade: 23, Curso: Matemática\n",
            "Nome: Bob, Idade: 22, Curso: Física\n",
            "Nome: Charlie, Idade: 24, Curso: Biologia\n",
            "Dados Atualizados: [['Alice', 23, 'Matemática'], ['Bob', 23, 'Física'], ['Charlie', 24, 'Biologia']]\n"
          ]
        }
      ]
    },
    {
      "cell_type": "markdown",
      "source": [
        "# Caso de Uso 3: Filtrar e Processar Dados\n",
        "\n",
        "Listas são úteis para filtrar e processar dados de maneira eficiente."
      ],
      "metadata": {
        "id": "6zl5dMlHG7-D"
      }
    },
    {
      "cell_type": "code",
      "source": [
        "# Lista de números\n",
        "numeros = [1, 2, 3, 4, 5, 6, 7, 8, 9, 10]\n",
        "\n",
        "# Filtrar números pares\n",
        "numeros_pares = [num for num in numeros if num % 2 == 0]\n",
        "print(\"Números Pares:\", numeros_pares)\n",
        "\n",
        "# Dobrar cada número na lista\n",
        "numeros_dobrados = [num * 2 for num in numeros]\n",
        "print(\"Números Dobrados:\", numeros_dobrados)\n"
      ],
      "metadata": {
        "colab": {
          "base_uri": "https://localhost:8080/"
        },
        "id": "jjT81fM1G-JN",
        "outputId": "1a865fc0-ef3f-4eed-b518-5d4438656467"
      },
      "execution_count": 4,
      "outputs": [
        {
          "output_type": "stream",
          "name": "stdout",
          "text": [
            "Números Pares: [2, 4, 6, 8, 10]\n",
            "Números Dobrados: [2, 4, 6, 8, 10, 12, 14, 16, 18, 20]\n"
          ]
        }
      ]
    }
  ]
}