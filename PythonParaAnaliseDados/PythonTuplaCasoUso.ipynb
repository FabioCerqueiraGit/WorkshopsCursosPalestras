{
  "nbformat": 4,
  "nbformat_minor": 0,
  "metadata": {
    "colab": {
      "provenance": [],
      "authorship_tag": "ABX9TyOpsGXk2yCikAI1U7dAL99z",
      "include_colab_link": true
    },
    "kernelspec": {
      "name": "python3",
      "display_name": "Python 3"
    },
    "language_info": {
      "name": "python"
    }
  },
  "cells": [
    {
      "cell_type": "markdown",
      "metadata": {
        "id": "view-in-github",
        "colab_type": "text"
      },
      "source": [
        "<a href=\"https://colab.research.google.com/github/FabioCerqueiraGit/WorkshopsCursosPalestras/blob/main/PythonParaAnaliseDados/PythonTuplaCasoUso.ipynb\" target=\"_parent\"><img src=\"https://colab.research.google.com/assets/colab-badge.svg\" alt=\"Open In Colab\"/></a>"
      ]
    },
    {
      "cell_type": "markdown",
      "source": [
        "# Python | Tupla - Estrutura de Dados e Sequência #1"
      ],
      "metadata": {
        "id": "4Pr-5gKECP91"
      }
    },
    {
      "cell_type": "markdown",
      "source": [
        "# Caso de Uso 1: Armazenar Coordenadas Geográficas\n",
        "\n",
        "Neste exemplo, uma tupla é usada para armazenar as coordenadas de latitude e longitude de uma localização."
      ],
      "metadata": {
        "id": "V8EB7OBgCgMK"
      }
    },
    {
      "cell_type": "code",
      "execution_count": 1,
      "metadata": {
        "colab": {
          "base_uri": "https://localhost:8080/"
        },
        "id": "khz16Ho3CLkR",
        "outputId": "f2d9e898-c8b5-4b6e-89f3-cfd80844f402"
      },
      "outputs": [
        {
          "output_type": "stream",
          "name": "stdout",
          "text": [
            "Latitude: 40.7128\n",
            "Longitude: -74.006\n"
          ]
        }
      ],
      "source": [
        "# Armazenando coordenadas de uma localização\n",
        "coordenadas = (40.7128, -74.0060)  # Latitude e Longitude de Nova York\n",
        "\n",
        "print(f\"Latitude: {coordenadas[0]}\")\n",
        "print(f\"Longitude: {coordenadas[1]}\")\n"
      ]
    },
    {
      "cell_type": "markdown",
      "source": [
        "# Caso de Uso 2: Devolver Múltiplos Valores em uma Função\n",
        "\n",
        "Funções podem usar tuplas para devolver múltiplos valores, permitindo a destruição dos valores na chamada da função."
      ],
      "metadata": {
        "id": "jhUr4oIOCMdg"
      }
    },
    {
      "cell_type": "code",
      "source": [
        "# Função que retorna o quociente e o resto de uma divisão\n",
        "def dividir(dividendo, divisor):\n",
        "    quociente = dividendo // divisor\n",
        "    resto = dividendo % divisor\n",
        "    return quociente, resto\n",
        "\n",
        "resultado = dividir(10, 3)\n",
        "print(f\"Quociente: {resultado[0]}, Resto: {resultado[1]}\")\n",
        "\n",
        "# Desconstruindo a tupla\n",
        "quociente, resto = dividir(10, 3)\n",
        "print(f\"Quociente: {quociente}, Resto: {resto}\")\n"
      ],
      "metadata": {
        "colab": {
          "base_uri": "https://localhost:8080/"
        },
        "id": "0CtvDfPqC8vF",
        "outputId": "379b03b5-3480-4c0e-ccff-431fd6c844be"
      },
      "execution_count": 2,
      "outputs": [
        {
          "output_type": "stream",
          "name": "stdout",
          "text": [
            "Quociente: 3, Resto: 1\n",
            "Quociente: 3, Resto: 1\n"
          ]
        }
      ]
    },
    {
      "cell_type": "markdown",
      "source": [
        "# Caso de Uso 3: Armazenar Registros Imutáveis\n",
        "\n",
        "Tuplas podem ser usadas para armazenar registros de dados que não devem ser alterados, como informações de um produto em um sistema de inventário."
      ],
      "metadata": {
        "id": "zq5dqoAUDALu"
      }
    },
    {
      "cell_type": "code",
      "source": [
        "# Registro imutável de um produto\n",
        "produto = (\"Notebook\", \"Eletrônicos\", 1500.00)\n",
        "\n",
        "print(f\"Produto: {produto[0]}\")\n",
        "print(f\"Categoria: {produto[1]}\")\n",
        "print(f\"Preço: {produto[2]}\")\n",
        "\n",
        "# Tentativa de modificação causará um erro\n",
        "# produto[2] = 1600.00  # Isto causaria um TypeError\n"
      ],
      "metadata": {
        "colab": {
          "base_uri": "https://localhost:8080/"
        },
        "id": "h8d0zSQYDD1U",
        "outputId": "7e365e8d-0430-478f-ca10-9fdc46f8acca"
      },
      "execution_count": 3,
      "outputs": [
        {
          "output_type": "stream",
          "name": "stdout",
          "text": [
            "Produto: Notebook\n",
            "Categoria: Eletrônicos\n",
            "Preço: 1500.0\n"
          ]
        }
      ]
    }
  ]
}