{
  "nbformat": 4,
  "nbformat_minor": 0,
  "metadata": {
    "colab": {
      "provenance": [],
      "authorship_tag": "ABX9TyNUfWSwyziziC/wBHSyi8Tv",
      "include_colab_link": true
    },
    "kernelspec": {
      "name": "python3",
      "display_name": "Python 3"
    },
    "language_info": {
      "name": "python"
    }
  },
  "cells": [
    {
      "cell_type": "markdown",
      "metadata": {
        "id": "view-in-github",
        "colab_type": "text"
      },
      "source": [
        "<a href=\"https://colab.research.google.com/github/FabioCerqueiraGit/WorkshopsCursosPalestras/blob/main/PythonParaAnaliseDados/Cap3Tupla.ipynb\" target=\"_parent\"><img src=\"https://colab.research.google.com/assets/colab-badge.svg\" alt=\"Open In Colab\"/></a>"
      ]
    },
    {
      "cell_type": "markdown",
      "source": [
        "## O que é uma Tupla em Python\n",
        "Uma tupla é uma estrutura de dados em Python que é imutável, ou seja, uma vez criada, seus elementos não podem ser alterados. As tuplas são definidas utilizando parênteses () e podem conter elementos de diferentes tipos, como inteiros, strings, listas, ou até mesmo outras tuplas.\n",
        "\n",
        "Exemplo de uma tupla:"
      ],
      "metadata": {
        "id": "7AfTbxxcG3dp"
      }
    },
    {
      "cell_type": "code",
      "execution_count": null,
      "metadata": {
        "id": "NvCx9fxzGu6S"
      },
      "outputs": [],
      "source": [
        "minha_tupla = (1, 'a', 3.14, (2, 4))"
      ]
    },
    {
      "cell_type": "markdown",
      "source": [
        "## Para que serve uma Tupla\n",
        "\n",
        "As tuplas servem para armazenar uma coleção de itens que não precisam ser alterados ao longo da execução do programa. Elas são usadas quando a imutabilidade é necessária ou desejada, por exemplo:\n",
        "\n",
        "* **Armazenamento de Dados Imutáveis:** Quando você deseja garantir que os dados não sejam alterados acidentalmente, uma tupla é uma boa escolha.\n",
        "\n",
        "* **Chaves de Dicionário:** Tuplas podem ser usadas como chaves de dicionário, já que são imutáveis e, portanto, têm um hash constante.\n",
        "\n",
        "* **Dados Relacionados:** Quando você tem um conjunto fixo de valores que estão logicamente relacionados e não precisam ser modificados, uma tupla pode ser apropriada."
      ],
      "metadata": {
        "id": "q4_YNEd8Hk_P"
      }
    },
    {
      "cell_type": "markdown",
      "source": [
        "## Utilização de Tuplas na Análise de Dados\n",
        "Na análise de dados, as tuplas podem ser usadas em várias situações, tais como:\n",
        "\n",
        "* **Armazenamento de Coordenadas:** Tuplas são frequentemente usadas para armazenar coordenadas (x, y), (latitude, longitude), etc.\n",
        "\n",
        "* **Retorno de Múltiplos Valores:** Funções podem retornar múltiplos valores em forma de tupla. Por exemplo, uma função que calcula estatísticas de um conjunto de dados pode retornar uma tupla contendo média, mediana e desvio padrão.\n",
        "\n",
        "* **Manipulação de Dados:** Em alguns casos, os dados lidos de fontes externas (como arquivos CSV, bancos de dados) são armazenados inicialmente em tuplas antes de serem processados ou convertidos para outras estruturas de dados como listas ou DataFrames do pandas."
      ],
      "metadata": {
        "id": "m6lyeZ3DH6sG"
      }
    },
    {
      "cell_type": "code",
      "source": [],
      "metadata": {
        "id": "kgigrAzIH2iN"
      },
      "execution_count": null,
      "outputs": []
    }
  ]
}